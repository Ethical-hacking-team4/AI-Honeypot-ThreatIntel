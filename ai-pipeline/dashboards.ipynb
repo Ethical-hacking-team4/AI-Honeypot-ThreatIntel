# Dashboards Notebook Starter
import pandas as pd
import matplotlib.pyplot as plt


# Load clustered logs
df = pd.read_csv('clustered_logs.csv')


# Plot top attack types
attack_counts = df['attack_type'].value_counts()
attack_counts.plot(kind='bar')
plt.show()